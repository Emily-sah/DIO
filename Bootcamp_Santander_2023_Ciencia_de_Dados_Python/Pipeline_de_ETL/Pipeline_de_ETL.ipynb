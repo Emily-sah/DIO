{
  "nbformat": 4,
  "nbformat_minor": 0,
  "metadata": {
    "colab": {
      "provenance": []
    },
    "kernelspec": {
      "name": "python3",
      "display_name": "Python 3"
    },
    "language_info": {
      "name": "python"
    }
  },
  "cells": [
    {
      "cell_type": "markdown",
      "source": [
        "# Explorando IA Generativa em um Pipeline de ETL com Python"
      ],
      "metadata": {
        "id": "dFfd_Fx8cQep"
      }
    },
    {
      "cell_type": "code",
      "source": [
        "\"\"\"\n",
        "Repositório da API: https://github.com/digitalinnovationone/santander-dev-week-2023-api\n",
        "Meu repositório: https://github.com/Emily-sah/DIO/tree/main/Bootcamp_Santander_2023_Ciencia_de_Dados_Python/Pipeline_de_ETL\n",
        "\"\"\"\n",
        "sdw2023_api_url = \"https://sdw-2023-prd.up.railway.app\""
      ],
      "metadata": {
        "id": "dADQ-mNafQ5o"
      },
      "execution_count": 18,
      "outputs": []
    },
    {
      "cell_type": "markdown",
      "source": [
        "# Extração\n",
        "\n",
        "Extraindo a lista de IDs de usuário a partir do arquivo CSV. Para cada ID, é feita uma requisição GET para obter os dados do usuário correspondente."
      ],
      "metadata": {
        "id": "3QVxFiqSgG41"
      }
    },
    {
      "cell_type": "code",
      "source": [
        "# Extraindo os IDs do arquivo CSV\n",
        "import pandas as pd\n",
        "\n",
        "df = pd.read_csv('SDW2023.csv')\n",
        "user_ids = df['UserID'].tolist()\n",
        "print(user_ids)"
      ],
      "metadata": {
        "colab": {
          "base_uri": "https://localhost:8080/"
        },
        "id": "twLun7MigIXK",
        "outputId": "613e3cad-e4a0-4ff0-c8e7-61690ee64397"
      },
      "execution_count": 19,
      "outputs": [
        {
          "output_type": "stream",
          "name": "stdout",
          "text": [
            "[2941, 2942, 2943, 2944]\n"
          ]
        }
      ]
    },
    {
      "cell_type": "code",
      "source": [
        "# Obtendo os dados de cada ID usando a API do Santander Dev Week 2023\n",
        "import requests\n",
        "import json\n",
        "\n",
        "def get_user(api_url, id):\n",
        "    response = requests.get(f'{api_url}/users/{id}')\n",
        "    return response.json() if response.status_code == 200 else None\n",
        "\n",
        "# Pega o usuário na lista de IDs, faz uma atribuição a ele (só vai atribuir se ele não for None)\n",
        "users = [user for id in user_ids if (user := get_user(sdw2023_api_url, id)) is not None]\n",
        "print(json.dumps(users, indent=2))"
      ],
      "metadata": {
        "id": "9spWxmpggVG_",
        "colab": {
          "base_uri": "https://localhost:8080/"
        },
        "outputId": "46c3e8b2-8234-4818-976c-fb91c9081a41"
      },
      "execution_count": 20,
      "outputs": [
        {
          "output_type": "stream",
          "name": "stdout",
          "text": [
            "[\n",
            "  {\n",
            "    \"id\": 2941,\n",
            "    \"name\": \"Emily Safira\",\n",
            "    \"account\": {\n",
            "      \"id\": 3111,\n",
            "      \"number\": \"0108-1\",\n",
            "      \"agency\": \"9865\",\n",
            "      \"balance\": 0.0,\n",
            "      \"limit\": 500.0\n",
            "    },\n",
            "    \"card\": {\n",
            "      \"id\": 2847,\n",
            "      \"number\": \"**** **** **** 1425\",\n",
            "      \"limit\": 1000.0\n",
            "    },\n",
            "    \"features\": [],\n",
            "    \"news\": [\n",
            "      {\n",
            "        \"id\": 6777,\n",
            "        \"icon\": \"https://digitalinnovationone.github.io/santander-dev-week-2023-api/icons/credit.svg\",\n",
            "        \"description\": \"O Santander tem solu\\u00e7\\u00f5es de cr\\u00e9dito sob medida pra voc\\u00ea. Confira!\"\n",
            "      }\n",
            "    ]\n",
            "  },\n",
            "  {\n",
            "    \"id\": 2942,\n",
            "    \"name\": \"Jozilene Ferreira\",\n",
            "    \"account\": {\n",
            "      \"id\": 3112,\n",
            "      \"number\": \"0012-4\",\n",
            "      \"agency\": \"2565\",\n",
            "      \"balance\": 0.0,\n",
            "      \"limit\": 600.0\n",
            "    },\n",
            "    \"card\": {\n",
            "      \"id\": 2848,\n",
            "      \"number\": \"**** **** **** 1496\",\n",
            "      \"limit\": 2000.0\n",
            "    },\n",
            "    \"features\": [],\n",
            "    \"news\": [\n",
            "      {\n",
            "        \"id\": 6778,\n",
            "        \"icon\": \"https://digitalinnovationone.github.io/santander-dev-week-2023-api/icons/credit.svg\",\n",
            "        \"description\": \"O Santander tem solu\\u00e7\\u00f5es de cr\\u00e9dito sob medida pra voc\\u00ea. Confira!\"\n",
            "      }\n",
            "    ]\n",
            "  },\n",
            "  {\n",
            "    \"id\": 2943,\n",
            "    \"name\": \"Duarte Araujo\",\n",
            "    \"account\": {\n",
            "      \"id\": 3113,\n",
            "      \"number\": \"0125-3\",\n",
            "      \"agency\": \"9658\",\n",
            "      \"balance\": 0.0,\n",
            "      \"limit\": 700.0\n",
            "    },\n",
            "    \"card\": {\n",
            "      \"id\": 2849,\n",
            "      \"number\": \"**** **** **** 2012\",\n",
            "      \"limit\": 1500.0\n",
            "    },\n",
            "    \"features\": [],\n",
            "    \"news\": [\n",
            "      {\n",
            "        \"id\": 6779,\n",
            "        \"icon\": \"https://digitalinnovationone.github.io/santander-dev-week-2023-api/icons/credit.svg\",\n",
            "        \"description\": \"O Santander tem solu\\u00e7\\u00f5es de cr\\u00e9dito sob medida pra voc\\u00ea. Confira!\"\n",
            "      }\n",
            "    ]\n",
            "  },\n",
            "  {\n",
            "    \"id\": 2944,\n",
            "    \"name\": \"Jesse Kelson\",\n",
            "    \"account\": {\n",
            "      \"id\": 3114,\n",
            "      \"number\": \"0231-7\",\n",
            "      \"agency\": \"3256\",\n",
            "      \"balance\": 0.0,\n",
            "      \"limit\": 800.0\n",
            "    },\n",
            "    \"card\": {\n",
            "      \"id\": 2850,\n",
            "      \"number\": \"**** **** **** 1478\",\n",
            "      \"limit\": 1400.0\n",
            "    },\n",
            "    \"features\": [],\n",
            "    \"news\": [\n",
            "      {\n",
            "        \"id\": 6780,\n",
            "        \"icon\": \"https://digitalinnovationone.github.io/santander-dev-week-2023-api/icons/credit.svg\",\n",
            "        \"description\": \"O Santander tem solu\\u00e7\\u00f5es de cr\\u00e9dito sob medida pra voc\\u00ea. Confira!\"\n",
            "      }\n",
            "    ]\n",
            "  }\n",
            "]\n"
          ]
        }
      ]
    },
    {
      "cell_type": "markdown",
      "source": [
        "# Transformação"
      ],
      "metadata": {
        "id": "ySUlkb4FrEDN"
      }
    },
    {
      "cell_type": "code",
      "source": [
        "#Abrindo o arquivo que contém as mensagens personalizadas\n",
        "df2 = pd.read_csv('message.csv', encoding='latin-1')\n",
        "message_user = df2['Message'].tolist()\n",
        "print(message_user)"
      ],
      "metadata": {
        "colab": {
          "base_uri": "https://localhost:8080/"
        },
        "id": "ZoS7YwWKiF7y",
        "outputId": "27474257-ea91-4b22-829d-bac29de34429"
      },
      "execution_count": 24,
      "outputs": [
        {
          "output_type": "stream",
          "name": "stdout",
          "text": [
            "['Investir: Riqueza Futura!', 'Cresça seu dinheiro com investimentos!', 'Invista hoje e colha amanhã!', 'Enriqueça seu futuro: invista agora!', 'Invista no seu futuro financeiro!', 'Investir é o caminho para prosperar!']\n"
          ]
        }
      ]
    },
    {
      "cell_type": "code",
      "source": [
        "#Personalizando cada mensagem para cada cliente\n",
        "for user, message in zip(users, message_user):\n",
        "    # news = generate_ai_news(user)\n",
        "    # print(news)\n",
        "    user['news'].append({\n",
        "        \"icon\": \"https://digitalinnovationone.github.io/santander-dev-week-2023-api/icons/credit.svg\",\n",
        "        \"description\": message\n",
        "    })"
      ],
      "metadata": {
        "id": "McgZQjOrsvcW"
      },
      "execution_count": 22,
      "outputs": []
    },
    {
      "cell_type": "markdown",
      "source": [
        "# Carregamento\n",
        "\n",
        "Atualizando a lista de \"news\" de Cada usuário na API com a nova mensagem gerada."
      ],
      "metadata": {
        "id": "CpDBQeeH20lJ"
      }
    },
    {
      "cell_type": "code",
      "source": [
        "def update_user(user):\n",
        "  response = requests.put(f\"{sdw2023_api_url}/users/{user['id']}\", json=user)\n",
        "  return True if response.status_code == 200 else False\n",
        "\n",
        "for user in users:\n",
        "  success = update_user(user)\n",
        "  print(f\"User {user['name']} updated? {success}!\")"
      ],
      "metadata": {
        "colab": {
          "base_uri": "https://localhost:8080/"
        },
        "id": "DGxLp2Pw223m",
        "outputId": "24ccf511-db62-4ebd-d34a-915f4d9ee15d"
      },
      "execution_count": 23,
      "outputs": [
        {
          "output_type": "stream",
          "name": "stdout",
          "text": [
            "User Emily Safira updated? True!\n",
            "User Jozilene Ferreira updated? True!\n",
            "User Duarte Araujo updated? True!\n",
            "User Jesse Kelson updated? True!\n"
          ]
        }
      ]
    }
  ]
}